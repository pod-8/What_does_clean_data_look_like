{
 "cells": [
  {
   "cell_type": "markdown",
   "metadata": {},
   "source": [
    "# Code to Clean Messy Exam Data\n",
    "\n",
    "This python code cleans the messy exam data file and retruns a tidy data set to Excel for analysis."
   ]
  },
  {
   "cell_type": "code",
   "execution_count": 8,
   "metadata": {},
   "outputs": [],
   "source": [
    "# Import required packages\n",
    "import pandas as pd\n",
    "\n",
    "# Read in messy_data example\n",
    "messy_data = pd.read_excel('Messy Data Example - Collated Exam Results.xlsx')"
   ]
  },
  {
   "cell_type": "code",
   "execution_count": 9,
   "metadata": {},
   "outputs": [
    {
     "data": {
      "text/html": [
       "<div>\n",
       "<style scoped>\n",
       "    .dataframe tbody tr th:only-of-type {\n",
       "        vertical-align: middle;\n",
       "    }\n",
       "\n",
       "    .dataframe tbody tr th {\n",
       "        vertical-align: top;\n",
       "    }\n",
       "\n",
       "    .dataframe thead th {\n",
       "        text-align: right;\n",
       "    }\n",
       "</style>\n",
       "<table border=\"1\" class=\"dataframe\">\n",
       "  <thead>\n",
       "    <tr style=\"text-align: right;\">\n",
       "      <th></th>\n",
       "      <th>Person</th>\n",
       "      <th>Subject</th>\n",
       "      <th>value</th>\n",
       "    </tr>\n",
       "  </thead>\n",
       "  <tbody>\n",
       "    <tr>\n",
       "      <th>0</th>\n",
       "      <td>PERSON-001</td>\n",
       "      <td>English</td>\n",
       "      <td>82/100 (82.0%)</td>\n",
       "    </tr>\n",
       "    <tr>\n",
       "      <th>1</th>\n",
       "      <td>PERSON-002</td>\n",
       "      <td>English</td>\n",
       "      <td>96/100 (96.0%)</td>\n",
       "    </tr>\n",
       "    <tr>\n",
       "      <th>2</th>\n",
       "      <td>PERSON-003</td>\n",
       "      <td>English</td>\n",
       "      <td>95/100 (95.0%)</td>\n",
       "    </tr>\n",
       "    <tr>\n",
       "      <th>3</th>\n",
       "      <td>PERSON-004</td>\n",
       "      <td>English</td>\n",
       "      <td>36/100 (36.0%)</td>\n",
       "    </tr>\n",
       "    <tr>\n",
       "      <th>4</th>\n",
       "      <td>PERSON-005</td>\n",
       "      <td>English</td>\n",
       "      <td>59/100 (59.0%)</td>\n",
       "    </tr>\n",
       "  </tbody>\n",
       "</table>\n",
       "</div>"
      ],
      "text/plain": [
       "       Person  Subject           value\n",
       "0  PERSON-001  English  82/100 (82.0%)\n",
       "1  PERSON-002  English  96/100 (96.0%)\n",
       "2  PERSON-003  English  95/100 (95.0%)\n",
       "3  PERSON-004  English  36/100 (36.0%)\n",
       "4  PERSON-005  English  59/100 (59.0%)"
      ]
     },
     "execution_count": 9,
     "metadata": {},
     "output_type": "execute_result"
    }
   ],
   "source": [
    "# Melt subjects (in columns) in to a single column\n",
    "messy_data = pd.melt(messy_data, id_vars=['Person'], var_name='Subject')\n",
    "\n",
    "# Output head of data to screen\n",
    "messy_data.head()"
   ]
  },
  {
   "cell_type": "code",
   "execution_count": 10,
   "metadata": {},
   "outputs": [
    {
     "data": {
      "text/html": [
       "<div>\n",
       "<style scoped>\n",
       "    .dataframe tbody tr th:only-of-type {\n",
       "        vertical-align: middle;\n",
       "    }\n",
       "\n",
       "    .dataframe tbody tr th {\n",
       "        vertical-align: top;\n",
       "    }\n",
       "\n",
       "    .dataframe thead th {\n",
       "        text-align: right;\n",
       "    }\n",
       "</style>\n",
       "<table border=\"1\" class=\"dataframe\">\n",
       "  <thead>\n",
       "    <tr style=\"text-align: right;\">\n",
       "      <th></th>\n",
       "      <th>Person</th>\n",
       "      <th>Subject</th>\n",
       "      <th>Score</th>\n",
       "      <th>Total Marks Available</th>\n",
       "      <th>% Performance</th>\n",
       "    </tr>\n",
       "  </thead>\n",
       "  <tbody>\n",
       "    <tr>\n",
       "      <th>0</th>\n",
       "      <td>PERSON-001</td>\n",
       "      <td>English</td>\n",
       "      <td>82</td>\n",
       "      <td>100</td>\n",
       "      <td>82.0</td>\n",
       "    </tr>\n",
       "    <tr>\n",
       "      <th>1</th>\n",
       "      <td>PERSON-002</td>\n",
       "      <td>English</td>\n",
       "      <td>96</td>\n",
       "      <td>100</td>\n",
       "      <td>96.0</td>\n",
       "    </tr>\n",
       "    <tr>\n",
       "      <th>2</th>\n",
       "      <td>PERSON-003</td>\n",
       "      <td>English</td>\n",
       "      <td>95</td>\n",
       "      <td>100</td>\n",
       "      <td>95.0</td>\n",
       "    </tr>\n",
       "    <tr>\n",
       "      <th>3</th>\n",
       "      <td>PERSON-004</td>\n",
       "      <td>English</td>\n",
       "      <td>36</td>\n",
       "      <td>100</td>\n",
       "      <td>36.0</td>\n",
       "    </tr>\n",
       "    <tr>\n",
       "      <th>4</th>\n",
       "      <td>PERSON-005</td>\n",
       "      <td>English</td>\n",
       "      <td>59</td>\n",
       "      <td>100</td>\n",
       "      <td>59.0</td>\n",
       "    </tr>\n",
       "  </tbody>\n",
       "</table>\n",
       "</div>"
      ],
      "text/plain": [
       "       Person  Subject Score Total Marks Available % Performance\n",
       "0  PERSON-001  English    82                   100          82.0\n",
       "1  PERSON-002  English    96                   100          96.0\n",
       "2  PERSON-003  English    95                   100          95.0\n",
       "3  PERSON-004  English    36                   100          36.0\n",
       "4  PERSON-005  English    59                   100          59.0"
      ]
     },
     "execution_count": 10,
     "metadata": {},
     "output_type": "execute_result"
    }
   ],
   "source": [
    "# Manipulate text string to remove all unwanted characters and implement common value delimiter '/'\n",
    "messy_data['value'] = messy_data['value'].str.replace('\\(|\\)','',regex=True)\n",
    "messy_data['value'] = messy_data['value'].str.replace('%','')\n",
    "messy_data['value'] = messy_data['value'].str.replace(' ','/')\n",
    "\n",
    "# Split columns based on delimiter and assign to new variables in messy_data\n",
    "messy_data[['Score','Total Marks Available','% Performance']] = messy_data['value'].str.split('/',expand=True)\n",
    "\n",
    "# Drop value column form data frame\n",
    "messy_data.drop(['value'],axis = 1,inplace=True)\n",
    "\n",
    "# Output head of data to screen\n",
    "messy_data.head()"
   ]
  },
  {
   "cell_type": "code",
   "execution_count": 11,
   "metadata": {},
   "outputs": [],
   "source": [
    "# Export clean data to Excel\n",
    "messy_data.to_excel('Tidy Data Example - Collated Exam Results.xlsx',index=False)"
   ]
  }
 ],
 "metadata": {
  "kernelspec": {
   "display_name": "base",
   "language": "python",
   "name": "python3"
  },
  "language_info": {
   "codemirror_mode": {
    "name": "ipython",
    "version": 3
   },
   "file_extension": ".py",
   "mimetype": "text/x-python",
   "name": "python",
   "nbconvert_exporter": "python",
   "pygments_lexer": "ipython3",
   "version": "3.11.3"
  },
  "orig_nbformat": 4
 },
 "nbformat": 4,
 "nbformat_minor": 2
}
